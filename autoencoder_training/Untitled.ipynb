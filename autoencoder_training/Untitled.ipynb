{
 "cells": [
  {
   "cell_type": "code",
   "execution_count": 19,
   "metadata": {},
   "outputs": [],
   "source": [
    "import torch\n",
    "import torch.nn as nn\n",
    "import torch.nn.functional as F\n",
    "\n",
    "class AE(nn.Module):\n",
    "    \"\"\"autoencoder\"\"\"\n",
    "    def __init__(self, encoder, decoder):\n",
    "        \"\"\"\n",
    "        encoder, decoder : neural networks\n",
    "        \"\"\"\n",
    "        super(AE, self).__init__()\n",
    "        self.encoder = encoder\n",
    "        self.decoder = decoder\n",
    "        self.own_optimizer = False\n",
    "\n",
    "    def forward(self, x):\n",
    "        z = self.encode(x)\n",
    "        recon = self.decoder(z)\n",
    "        return recon\n",
    "\n",
    "    def encode(self, x):\n",
    "        z = self.encoder(x)\n",
    "        return z\n",
    "\n",
    "    def recon_error(self, x):\n",
    "        recon = self(x)\n",
    "        recon_err = ((recon - x) ** 2).view(len(x), -1).mean(dim=1)\n",
    "        return recon_err\n",
    "\n",
    "    def reconstruct(self, x):\n",
    "        return self(x)\n",
    "\n",
    "\n",
    "    \n",
    "# ConvNet desigend for 32x32 input\n",
    "class ConvNet2(nn.Module):\n",
    "    def __init__(self, in_chan=1, out_chan=64, nh=8, out_activation=None):\n",
    "        \"\"\"nh: determines the numbers of conv filters\"\"\"\n",
    "        super(ConvNet2, self).__init__()\n",
    "        self.conv1 = nn.Conv2d(in_chan, nh * 4, kernel_size=3, bias=True)\n",
    "        self.conv2 = nn.Conv2d(nh * 4, nh * 8, kernel_size=3, bias=True)\n",
    "        self.max1 = nn.MaxPool2d(kernel_size=2, stride=2)\n",
    "        self.conv3 = nn.Conv2d(nh * 8, nh * 8, kernel_size=3, bias=True)\n",
    "        self.conv4 = nn.Conv2d(nh * 8, nh * 16, kernel_size=3, bias=True)\n",
    "        self.max2 = nn.MaxPool2d(kernel_size=2, stride=2)\n",
    "        self.conv5 = nn.Conv2d(nh * 16, out_chan, kernel_size=4, bias=True)\n",
    "        self.in_chan, self.out_chan = in_chan, out_chan\n",
    "        self.out_activation = out_activation\n",
    "\n",
    "    def forward(self, x):\n",
    "        x = self.conv1(x)\n",
    "        x = F.relu(x)\n",
    "        x = self.conv2(x)\n",
    "        x = F.relu(x)\n",
    "        x = self.max1(x)\n",
    "        x = self.conv3(x)\n",
    "        x = F.relu(x)\n",
    "        x = self.conv4(x)\n",
    "        x = F.relu(x)\n",
    "        x = self.max2(x)\n",
    "        x = self.conv5(x)\n",
    "        if self.out_activation == 'tanh':\n",
    "            x = torch.tanh(x)\n",
    "        elif self.out_activation == 'sigmoid':\n",
    "            x = torch.sigmoid(x)\n",
    "        elif self.out_activation == 'softmax':\n",
    "            x = F.log_softmax(x, dim=1)\n",
    "        return x\n",
    "\n",
    "\n",
    "\n",
    "class DeConvNet2(nn.Module):\n",
    "    def __init__(self, in_chan=1, out_chan=1, nh=8, out_activation=None):\n",
    "        \"\"\"nh: determines the numbers of conv filters\"\"\"\n",
    "        super(DeConvNet2, self).__init__()\n",
    "        self.conv1 = nn.ConvTranspose2d(in_chan, nh * 16, kernel_size=4, bias=True)\n",
    "        self.conv2 = nn.ConvTranspose2d(nh * 16, nh * 8, kernel_size=3, bias=True)\n",
    "        self.conv3 = nn.ConvTranspose2d(nh * 8, nh * 8, kernel_size=3, bias=True)\n",
    "        self.conv4 = nn.ConvTranspose2d(nh * 8, nh * 4, kernel_size=3, bias=True)\n",
    "        self.conv5 = nn.ConvTranspose2d(nh * 4, out_chan, kernel_size=3, bias=True)\n",
    "        self.in_chan, self.out_chan = in_chan, out_chan\n",
    "        self.out_activation = out_activation\n",
    "\n",
    "    def forward(self, x):\n",
    "        x = self.conv1(x)\n",
    "        x = F.relu(x)\n",
    "        x = F.interpolate(x, scale_factor=2, mode='bilinear', align_corners=True)\n",
    "        x = self.conv2(x)\n",
    "        x = F.relu(x)\n",
    "        x = self.conv3(x)\n",
    "        x = F.relu(x)\n",
    "        x = F.interpolate(x, scale_factor=2, mode='bilinear', align_corners=True)\n",
    "        x = self.conv4(x)\n",
    "        x = F.relu(x)\n",
    "        x = self.conv5(x)\n",
    "        if self.out_activation == 'sigmoid':\n",
    "            x = torch.sigmoid(x)\n",
    "        return x"
   ]
  },
  {
   "cell_type": "code",
   "execution_count": 29,
   "metadata": {},
   "outputs": [],
   "source": [
    "D = 64\n",
    "Z = 32\n",
    "N = 100\n",
    "X = torch.rand(N, D, 32, 32)\n",
    "encoder = ConvNet2(in_chan=D, out_chan=Z, nh=4, out_activation='linear')\n",
    "decoder = DeConvNet2(in_chan=Z, out_chan=D, nh=4, out_activation='sigmoid')\n",
    "ae = AE(encoder, decoder)\n",
    "\n",
    "recon = ae(X)\n",
    "# assert recon.shape == (N, D, 28, 28)\n",
    "\n",
    "\n",
    "# # opt = Adam(ae.parameters(), lr=1e-4)\n",
    "# # d_loss = ae.train_step(X, opt)\n",
    "# # assert 'loss' in d_loss\n",
    "\n"
   ]
  },
  {
   "cell_type": "code",
   "execution_count": 30,
   "metadata": {},
   "outputs": [
    {
     "data": {
      "text/plain": [
       "torch.Size([100, 64, 32, 32])"
      ]
     },
     "execution_count": 30,
     "metadata": {},
     "output_type": "execute_result"
    }
   ],
   "source": [
    "recon.shape"
   ]
  },
  {
   "cell_type": "code",
   "execution_count": 31,
   "metadata": {},
   "outputs": [
    {
     "data": {
      "text/plain": [
       "torch.Size([100])"
      ]
     },
     "execution_count": 31,
     "metadata": {},
     "output_type": "execute_result"
    }
   ],
   "source": [
    "ae.recon_error(X).shape"
   ]
  },
  {
   "cell_type": "code",
   "execution_count": null,
   "metadata": {},
   "outputs": [],
   "source": []
  }
 ],
 "metadata": {
  "kernelspec": {
   "display_name": "ood",
   "language": "python",
   "name": "ood"
  },
  "language_info": {
   "codemirror_mode": {
    "name": "ipython",
    "version": 3
   },
   "file_extension": ".py",
   "mimetype": "text/x-python",
   "name": "python",
   "nbconvert_exporter": "python",
   "pygments_lexer": "ipython3",
   "version": "3.7.7"
  }
 },
 "nbformat": 4,
 "nbformat_minor": 4
}
